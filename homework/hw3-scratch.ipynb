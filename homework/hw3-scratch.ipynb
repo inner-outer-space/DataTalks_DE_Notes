{
 "cells": [
  {
   "cell_type": "code",
   "execution_count": 4,
   "metadata": {},
   "outputs": [],
   "source": [
    "import pandas as pd\n",
    "import requests\n",
    "from io import BytesIO\n",
    "import warnings\n",
    "import os "
   ]
  },
  {
   "cell_type": "code",
   "execution_count": 5,
   "metadata": {},
   "outputs": [
    {
     "name": "stdout",
     "output_type": "stream",
     "text": [
      "01 (62495, 20) full: (62495, 20)\n",
      "02 (69399, 20) full: (131894, 20)\n",
      "03 (78537, 20) full: (210431, 20)\n",
      "04 (76136, 20) full: (286567, 20)\n",
      "05 (76891, 20) full: (363458, 20)\n",
      "06 (73718, 20) full: (437176, 20)\n",
      "07 (64192, 20) full: (501368, 20)\n",
      "08 (65929, 20) full: (567297, 20)\n",
      "09 (69031, 20) full: (636328, 20)\n",
      "10 (69322, 20) full: (705650, 20)\n",
      "11 (62313, 20) full: (767963, 20)\n",
      "12 (72439, 20) full: (840402, 20)\n"
     ]
    }
   ],
   "source": [
    "parquet_dfs = {}\n",
    "\n",
    "# Suppress warnings temporarily\n",
    "with warnings.catch_warnings():\n",
    "    warnings.simplefilter(\"ignore\")\n",
    "    \n",
    "    months = [f'{i:02}' for i in range(1, 13)]\n",
    "    full_df = pd.DataFrame()\n",
    "\n",
    "    for mon in months: \n",
    "        url = f'https://d37ci6vzurychx.cloudfront.net/trip-data/green_tripdata_2022-{mon}.parquet'\n",
    "        df = pd.read_parquet(url)\n",
    "        \n",
    "        full_df = pd.concat([full_df, df], ignore_index=True)\n",
    "        print(mon, df.shape, \"full:\", full_df.shape)"
   ]
  },
  {
   "cell_type": "code",
   "execution_count": 8,
   "metadata": {},
   "outputs": [
    {
     "name": "stdout",
     "output_type": "stream",
     "text": [
      "Memory usage of DataFrame: 6.41 MB\n"
     ]
    }
   ],
   "source": [
    "pu_locs = full_df['PULocationID']\n",
    "# CHECK MEMORY USAGE \n",
    "memory_usage = pu_locs.memory_usage(deep=True) / (1024 ** 2)  # Convert to megabytes\n",
    "print(f\"Memory usage of DataFrame: {memory_usage:.2f} MB\")"
   ]
  },
  {
   "cell_type": "code",
   "execution_count": 10,
   "metadata": {},
   "outputs": [
    {
     "data": {
      "text/plain": [
       "(1622, 20)"
      ]
     },
     "execution_count": 10,
     "metadata": {},
     "output_type": "execute_result"
    }
   ],
   "source": [
    "full_df[full_df['fare_amount'] == 0].shape"
   ]
  }
 ],
 "metadata": {
  "kernelspec": {
   "display_name": "de_zoom",
   "language": "python",
   "name": "python3"
  },
  "language_info": {
   "codemirror_mode": {
    "name": "ipython",
    "version": 3
   },
   "file_extension": ".py",
   "mimetype": "text/x-python",
   "name": "python",
   "nbconvert_exporter": "python",
   "pygments_lexer": "ipython3",
   "version": "3.11.5"
  }
 },
 "nbformat": 4,
 "nbformat_minor": 2
}
