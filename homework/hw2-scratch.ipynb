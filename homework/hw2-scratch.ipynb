{
 "cells": [
  {
   "cell_type": "code",
   "execution_count": 1,
   "metadata": {},
   "outputs": [],
   "source": [
    "import pandas as pd\n",
    "import requests\n",
    "from io import BytesIO\n",
    "import warnings\n",
    "import os "
   ]
  },
  {
   "cell_type": "code",
   "execution_count": 2,
   "metadata": {},
   "outputs": [],
   "source": [
    "year = '2020'\n",
    "months = ['10', '11', '12']\n",
    "full_df_parquet = pd.DataFrame()"
   ]
  },
  {
   "cell_type": "code",
   "execution_count": null,
   "metadata": {},
   "outputs": [],
   "source": [
    "for mon in months: \n",
    "    url = f'https://d37ci6vzurychx.cloudfront.net/trip-data/yellow_tripdata_{year}-{mon}.parquet'\n",
    "    r = requests.get(url)\n",
    "    df_parquet = pd.read_parquet(BytesIO(r.content))\n",
    "    \n",
    "    full_df_parquet = pd.concat([full_df_parquet, df_parquet], ignore_index=True)\n",
    "    print(df_parquet.shape, full_df_parquet.shape)"
   ]
  },
  {
   "cell_type": "code",
   "execution_count": 3,
   "metadata": {},
   "outputs": [
    {
     "name": "stderr",
     "output_type": "stream",
     "text": [
      "/tmp/ipykernel_226166/3054587626.py:5: DtypeWarning: Columns (3) have mixed types. Specify dtype option on import or set low_memory=False.\n",
      "  df_csv =  pd.read_csv(BytesIO(r.content), compression='gzip')\n"
     ]
    },
    {
     "name": "stdout",
     "output_type": "stream",
     "text": [
      "(95120, 20) (95120, 20)\n"
     ]
    },
    {
     "name": "stderr",
     "output_type": "stream",
     "text": [
      "/tmp/ipykernel_226166/3054587626.py:5: DtypeWarning: Columns (3) have mixed types. Specify dtype option on import or set low_memory=False.\n",
      "  df_csv =  pd.read_csv(BytesIO(r.content), compression='gzip')\n"
     ]
    },
    {
     "name": "stdout",
     "output_type": "stream",
     "text": [
      "(88605, 20) (183725, 20)\n",
      "(83130, 20) (266855, 20)\n"
     ]
    },
    {
     "name": "stderr",
     "output_type": "stream",
     "text": [
      "/tmp/ipykernel_226166/3054587626.py:5: DtypeWarning: Columns (3) have mixed types. Specify dtype option on import or set low_memory=False.\n",
      "  df_csv =  pd.read_csv(BytesIO(r.content), compression='gzip')\n"
     ]
    }
   ],
   "source": [
    "\n",
    "full_df_csv = pd.DataFrame()\n",
    "for mon in months: \n",
    "    url = f'https://github.com/DataTalksClub/nyc-tlc-data/releases/download/green/green_tripdata_2020-{mon}.csv.gz'\n",
    "    r = requests.get(url)\n",
    "    df_csv =  pd.read_csv(BytesIO(r.content), compression='gzip')\n",
    "    \n",
    "    full_df_csv = pd.concat([full_df_csv, df_csv], ignore_index=True)\n",
    "    print(df_csv.shape, full_df_csv.shape)"
   ]
  },
  {
   "cell_type": "code",
   "execution_count": 4,
   "metadata": {},
   "outputs": [
    {
     "data": {
      "text/plain": [
       "Index(['VendorID', 'lpep_pickup_datetime', 'lpep_dropoff_datetime',\n",
       "       'store_and_fwd_flag', 'RatecodeID', 'PULocationID', 'DOLocationID',\n",
       "       'passenger_count', 'trip_distance', 'fare_amount', 'extra', 'mta_tax',\n",
       "       'tip_amount', 'tolls_amount', 'ehail_fee', 'improvement_surcharge',\n",
       "       'total_amount', 'payment_type', 'trip_type', 'congestion_surcharge'],\n",
       "      dtype='object')"
      ]
     },
     "execution_count": 4,
     "metadata": {},
     "output_type": "execute_result"
    }
   ],
   "source": [
    "data = full_df_csv.copy()\n",
    "data.columns  "
   ]
  },
  {
   "cell_type": "code",
   "execution_count": 9,
   "metadata": {},
   "outputs": [
    {
     "name": "stdout",
     "output_type": "stream",
     "text": [
      "<class 'pandas.core.frame.DataFrame'>\n",
      "RangeIndex: 266855 entries, 0 to 266854\n",
      "Data columns (total 20 columns):\n",
      " #   Column                 Non-Null Count   Dtype  \n",
      "---  ------                 --------------   -----  \n",
      " 0   vendorid               147393 non-null  float64\n",
      " 1   lpep_pickup_datetime   266855 non-null  object \n",
      " 2   lpep_dropoff_datetime  266855 non-null  object \n",
      " 3   store_and_fwd_flag     147393 non-null  object \n",
      " 4   ratecodeid             147393 non-null  float64\n",
      " 5   pulocationid           266855 non-null  int64  \n",
      " 6   dolocationid           266855 non-null  int64  \n",
      " 7   passenger_count        147393 non-null  float64\n",
      " 8   trip_distance          266855 non-null  float64\n",
      " 9   fare_amount            266855 non-null  float64\n",
      " 10  extra                  266855 non-null  float64\n",
      " 11  mta_tax                266855 non-null  float64\n",
      " 12  tip_amount             266855 non-null  float64\n",
      " 13  tolls_amount           266855 non-null  float64\n",
      " 14  ehail_fee              0 non-null       float64\n",
      " 15  improvement_surcharge  266855 non-null  float64\n",
      " 16  total_amount           266855 non-null  float64\n",
      " 17  payment_type           147393 non-null  float64\n",
      " 18  trip_type              147393 non-null  float64\n",
      " 19  congestion_surcharge   147393 non-null  float64\n",
      "dtypes: float64(15), int64(2), object(3)\n",
      "memory usage: 40.7+ MB\n"
     ]
    }
   ],
   "source": [
    "\n",
    "data.columns = data.columns.str.lower()\n",
    "data.info()"
   ]
  },
  {
   "cell_type": "code",
   "execution_count": 10,
   "metadata": {},
   "outputs": [
    {
     "data": {
      "text/html": [
       "<div>\n",
       "<style scoped>\n",
       "    .dataframe tbody tr th:only-of-type {\n",
       "        vertical-align: middle;\n",
       "    }\n",
       "\n",
       "    .dataframe tbody tr th {\n",
       "        vertical-align: top;\n",
       "    }\n",
       "\n",
       "    .dataframe thead th {\n",
       "        text-align: right;\n",
       "    }\n",
       "</style>\n",
       "<table border=\"1\" class=\"dataframe\">\n",
       "  <thead>\n",
       "    <tr style=\"text-align: right;\">\n",
       "      <th></th>\n",
       "      <th>vendorid</th>\n",
       "      <th>lpep_pickup_datetime</th>\n",
       "      <th>lpep_dropoff_datetime</th>\n",
       "      <th>store_and_fwd_flag</th>\n",
       "      <th>ratecodeid</th>\n",
       "      <th>pulocationid</th>\n",
       "      <th>dolocationid</th>\n",
       "      <th>passenger_count</th>\n",
       "      <th>trip_distance</th>\n",
       "      <th>fare_amount</th>\n",
       "      <th>extra</th>\n",
       "      <th>mta_tax</th>\n",
       "      <th>tip_amount</th>\n",
       "      <th>tolls_amount</th>\n",
       "      <th>ehail_fee</th>\n",
       "      <th>improvement_surcharge</th>\n",
       "      <th>total_amount</th>\n",
       "      <th>payment_type</th>\n",
       "      <th>trip_type</th>\n",
       "      <th>congestion_surcharge</th>\n",
       "    </tr>\n",
       "  </thead>\n",
       "  <tbody>\n",
       "    <tr>\n",
       "      <th>8303</th>\n",
       "      <td>2.0</td>\n",
       "      <td>2020-10-05 21:29:21</td>\n",
       "      <td>2020-10-05 21:30:54</td>\n",
       "      <td>N</td>\n",
       "      <td>5.0</td>\n",
       "      <td>189</td>\n",
       "      <td>189</td>\n",
       "      <td>0.0</td>\n",
       "      <td>0.0</td>\n",
       "      <td>8.50</td>\n",
       "      <td>0.0</td>\n",
       "      <td>0.0</td>\n",
       "      <td>1.76</td>\n",
       "      <td>0.0</td>\n",
       "      <td>NaN</td>\n",
       "      <td>0.3</td>\n",
       "      <td>10.56</td>\n",
       "      <td>1.0</td>\n",
       "      <td>2.0</td>\n",
       "      <td>0.0</td>\n",
       "    </tr>\n",
       "    <tr>\n",
       "      <th>13407</th>\n",
       "      <td>2.0</td>\n",
       "      <td>2020-10-08 21:30:05</td>\n",
       "      <td>2020-10-08 21:31:13</td>\n",
       "      <td>N</td>\n",
       "      <td>5.0</td>\n",
       "      <td>41</td>\n",
       "      <td>41</td>\n",
       "      <td>0.0</td>\n",
       "      <td>0.0</td>\n",
       "      <td>0.11</td>\n",
       "      <td>0.0</td>\n",
       "      <td>0.0</td>\n",
       "      <td>0.00</td>\n",
       "      <td>0.0</td>\n",
       "      <td>NaN</td>\n",
       "      <td>0.3</td>\n",
       "      <td>0.41</td>\n",
       "      <td>2.0</td>\n",
       "      <td>2.0</td>\n",
       "      <td>0.0</td>\n",
       "    </tr>\n",
       "    <tr>\n",
       "      <th>13443</th>\n",
       "      <td>2.0</td>\n",
       "      <td>2020-10-08 22:55:41</td>\n",
       "      <td>2020-10-08 22:56:41</td>\n",
       "      <td>N</td>\n",
       "      <td>5.0</td>\n",
       "      <td>74</td>\n",
       "      <td>74</td>\n",
       "      <td>0.0</td>\n",
       "      <td>0.0</td>\n",
       "      <td>0.01</td>\n",
       "      <td>0.0</td>\n",
       "      <td>0.0</td>\n",
       "      <td>0.00</td>\n",
       "      <td>0.0</td>\n",
       "      <td>NaN</td>\n",
       "      <td>0.3</td>\n",
       "      <td>0.31</td>\n",
       "      <td>2.0</td>\n",
       "      <td>2.0</td>\n",
       "      <td>0.0</td>\n",
       "    </tr>\n",
       "    <tr>\n",
       "      <th>23023</th>\n",
       "      <td>2.0</td>\n",
       "      <td>2020-10-15 02:07:50</td>\n",
       "      <td>2020-10-15 02:07:53</td>\n",
       "      <td>N</td>\n",
       "      <td>5.0</td>\n",
       "      <td>41</td>\n",
       "      <td>264</td>\n",
       "      <td>0.0</td>\n",
       "      <td>0.0</td>\n",
       "      <td>10.00</td>\n",
       "      <td>0.0</td>\n",
       "      <td>0.0</td>\n",
       "      <td>0.00</td>\n",
       "      <td>0.0</td>\n",
       "      <td>NaN</td>\n",
       "      <td>0.3</td>\n",
       "      <td>10.30</td>\n",
       "      <td>1.0</td>\n",
       "      <td>2.0</td>\n",
       "      <td>0.0</td>\n",
       "    </tr>\n",
       "    <tr>\n",
       "      <th>28464</th>\n",
       "      <td>2.0</td>\n",
       "      <td>2020-10-18 00:37:37</td>\n",
       "      <td>2020-10-18 00:37:40</td>\n",
       "      <td>N</td>\n",
       "      <td>5.0</td>\n",
       "      <td>181</td>\n",
       "      <td>181</td>\n",
       "      <td>0.0</td>\n",
       "      <td>0.0</td>\n",
       "      <td>15.00</td>\n",
       "      <td>0.0</td>\n",
       "      <td>0.0</td>\n",
       "      <td>0.00</td>\n",
       "      <td>0.0</td>\n",
       "      <td>NaN</td>\n",
       "      <td>0.3</td>\n",
       "      <td>15.30</td>\n",
       "      <td>1.0</td>\n",
       "      <td>2.0</td>\n",
       "      <td>0.0</td>\n",
       "    </tr>\n",
       "  </tbody>\n",
       "</table>\n",
       "</div>"
      ],
      "text/plain": [
       "       vendorid lpep_pickup_datetime lpep_dropoff_datetime store_and_fwd_flag  \\\n",
       "8303        2.0  2020-10-05 21:29:21   2020-10-05 21:30:54                  N   \n",
       "13407       2.0  2020-10-08 21:30:05   2020-10-08 21:31:13                  N   \n",
       "13443       2.0  2020-10-08 22:55:41   2020-10-08 22:56:41                  N   \n",
       "23023       2.0  2020-10-15 02:07:50   2020-10-15 02:07:53                  N   \n",
       "28464       2.0  2020-10-18 00:37:37   2020-10-18 00:37:40                  N   \n",
       "\n",
       "       ratecodeid  pulocationid  dolocationid  passenger_count  trip_distance  \\\n",
       "8303          5.0           189           189              0.0            0.0   \n",
       "13407         5.0            41            41              0.0            0.0   \n",
       "13443         5.0            74            74              0.0            0.0   \n",
       "23023         5.0            41           264              0.0            0.0   \n",
       "28464         5.0           181           181              0.0            0.0   \n",
       "\n",
       "       fare_amount  extra  mta_tax  tip_amount  tolls_amount  ehail_fee  \\\n",
       "8303          8.50    0.0      0.0        1.76           0.0        NaN   \n",
       "13407         0.11    0.0      0.0        0.00           0.0        NaN   \n",
       "13443         0.01    0.0      0.0        0.00           0.0        NaN   \n",
       "23023        10.00    0.0      0.0        0.00           0.0        NaN   \n",
       "28464        15.00    0.0      0.0        0.00           0.0        NaN   \n",
       "\n",
       "       improvement_surcharge  total_amount  payment_type  trip_type  \\\n",
       "8303                     0.3         10.56           1.0        2.0   \n",
       "13407                    0.3          0.41           2.0        2.0   \n",
       "13443                    0.3          0.31           2.0        2.0   \n",
       "23023                    0.3         10.30           1.0        2.0   \n",
       "28464                    0.3         15.30           1.0        2.0   \n",
       "\n",
       "       congestion_surcharge  \n",
       "8303                    0.0  \n",
       "13407                   0.0  \n",
       "13443                   0.0  \n",
       "23023                   0.0  \n",
       "28464                   0.0  "
      ]
     },
     "execution_count": 10,
     "metadata": {},
     "output_type": "execute_result"
    }
   ],
   "source": [
    "data_0 = data[(data['passenger_count'] == 0) & (data['trip_distance'] == 0)]\n",
    "data_0.head()"
   ]
  },
  {
   "cell_type": "code",
   "execution_count": 12,
   "metadata": {},
   "outputs": [
    {
     "data": {
      "text/plain": [
       "(139370, 20)"
      ]
     },
     "execution_count": 12,
     "metadata": {},
     "output_type": "execute_result"
    }
   ],
   "source": [
    "data = data[(data['passenger_count'] > 0) & (data['trip_distance'] > 0)]\n",
    "data.shape"
   ]
  },
  {
   "cell_type": "code",
   "execution_count": 13,
   "metadata": {},
   "outputs": [],
   "source": [
    "data.lpep_pickup_datetime= pd.to_datetime(data.lpep_pickup_datetime)\n",
    "data.lpep_dropoff_datetime= pd.to_datetime(data.lpep_dropoff_datetime)"
   ]
  },
  {
   "cell_type": "code",
   "execution_count": 14,
   "metadata": {},
   "outputs": [],
   "source": [
    "\n",
    "data['lpep_pickup_date'] = data['lpep_pickup_datetime'].dt.date\n",
    "\n"
   ]
  },
  {
   "cell_type": "code",
   "execution_count": 15,
   "metadata": {},
   "outputs": [
    {
     "name": "stdout",
     "output_type": "stream",
     "text": [
      "2020-10-30\n",
      "2020-11-12\n",
      "2020-11-20\n",
      "2020-11-13\n",
      "2020-10-29\n",
      "2020-12-11\n",
      "2020-12-04\n",
      "2020-10-15\n",
      "2020-11-02\n",
      "2020-10-23\n",
      "2020-12-03\n",
      "2020-11-10\n",
      "2020-12-01\n",
      "2020-10-01\n",
      "2020-10-16\n",
      "2020-11-06\n",
      "2020-11-05\n",
      "2020-10-22\n",
      "2020-12-23\n",
      "2020-10-02\n",
      "2020-12-02\n",
      "2020-12-18\n",
      "2020-12-15\n",
      "2020-12-10\n",
      "2020-10-31\n",
      "2020-11-19\n",
      "2020-12-09\n",
      "2020-10-09\n",
      "2020-11-25\n",
      "2020-10-28\n",
      "2020-11-23\n",
      "2020-10-14\n",
      "2020-10-27\n",
      "2020-11-18\n",
      "2020-12-08\n",
      "2020-11-24\n",
      "2020-10-26\n",
      "2020-11-11\n",
      "2020-10-08\n",
      "2020-11-16\n",
      "2020-10-21\n",
      "2020-10-03\n",
      "2020-10-19\n",
      "2020-11-09\n",
      "2020-11-21\n",
      "2020-10-24\n",
      "2020-10-17\n",
      "2020-10-10\n",
      "2020-11-03\n",
      "2020-12-14\n",
      "2020-10-13\n",
      "2020-12-07\n",
      "2020-11-17\n",
      "2020-10-07\n",
      "2020-10-05\n",
      "2020-11-04\n",
      "2020-10-20\n",
      "2020-12-21\n",
      "2020-12-22\n",
      "2020-10-06\n",
      "2020-11-07\n",
      "2020-12-16\n",
      "2020-11-14\n",
      "2020-12-24\n",
      "2020-11-30\n",
      "2020-12-19\n",
      "2020-12-31\n",
      "2020-12-12\n",
      "2020-12-29\n",
      "2020-11-28\n",
      "2020-12-05\n",
      "2020-11-27\n",
      "2020-12-30\n",
      "2020-12-28\n",
      "2020-10-12\n",
      "2020-10-18\n",
      "2020-11-01\n",
      "2020-11-08\n",
      "2020-10-25\n",
      "2020-10-04\n",
      "2020-12-13\n",
      "2020-10-11\n",
      "2020-12-26\n",
      "2020-11-22\n",
      "2020-11-29\n",
      "2020-12-06\n",
      "2020-11-26\n",
      "2020-11-15\n",
      "2020-12-20\n",
      "2020-12-27\n",
      "2020-12-25\n",
      "2020-12-17\n",
      "2020-09-30\n",
      "2009-01-01\n",
      "2021-01-01\n"
     ]
    }
   ],
   "source": [
    "value_counts= data['lpep_pickup_date'].value_counts()\n",
    "value_counts\n",
    "for value in value_counts.index:\n",
    "    print(value)"
   ]
  },
  {
   "cell_type": "code",
   "execution_count": null,
   "metadata": {},
   "outputs": [],
   "source": [
    "value_counts= data['vendorid'].value_counts()\n",
    "value_counts"
   ]
  }
 ],
 "metadata": {
  "kernelspec": {
   "display_name": "de_zoom",
   "language": "python",
   "name": "python3"
  },
  "language_info": {
   "codemirror_mode": {
    "name": "ipython",
    "version": 3
   },
   "file_extension": ".py",
   "mimetype": "text/x-python",
   "name": "python",
   "nbconvert_exporter": "python",
   "pygments_lexer": "ipython3",
   "version": "3.11.5"
  }
 },
 "nbformat": 4,
 "nbformat_minor": 2
}
