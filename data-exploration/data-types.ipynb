{
 "cells": [
  {
   "cell_type": "code",
   "execution_count": 5,
   "metadata": {},
   "outputs": [],
   "source": [
    "import pandas as pd\n",
    "import numpy as np  \n",
    "import scipy as sp\n",
    "import matplotlib.pyplot as plt\n",
    "import seaborn as sns\n",
    "import os \n",
    "from io import BytesIO\n",
    "import requests\n",
    "from datetime import datetime"
   ]
  },
  {
   "cell_type": "code",
   "execution_count": 6,
   "metadata": {},
   "outputs": [],
   "source": [
    "services = ['fhv','green','yellow']\n",
    "df_names = ['fhv_df','green_df','yellow_df']\n",
    "init_url = 'https://github.com/DataTalksClub/nyc-tlc-data/releases/download/'"
   ]
  },
  {
   "cell_type": "code",
   "execution_count": 7,
   "metadata": {},
   "outputs": [],
   "source": [
    "service = services[2]\n",
    "month = '04'\n",
    "year = '2019'"
   ]
  },
  {
   "cell_type": "code",
   "execution_count": 20,
   "metadata": {},
   "outputs": [
    {
     "name": "stdout",
     "output_type": "stream",
     "text": [
      "https://github.com/DataTalksClub/nyc-tlc-data/releases/download/yellow/yellow_tripdata_2019-04.csv.gz\n",
      "(7433139, 18)\n"
     ]
    }
   ],
   "source": [
    "\n",
    "# GET yellow DF \n",
    "yellow_file_name = f\"yellow_tripdata_{year}-{month}.csv.gz\"\n",
    "\n",
    "yellow_url = f\"{init_url}yellow/{yellow_file_name}\"\n",
    "print(yellow_url)\n",
    "\n",
    "\n",
    "yellow_r = requests.get(yellow_url)    \n",
    "yellow_df = pd.read_csv(BytesIO(yellow_r.content), compression='gzip')\n",
    "print(yellow_df.shape)"
   ]
  },
  {
   "cell_type": "code",
   "execution_count": 21,
   "metadata": {},
   "outputs": [
    {
     "name": "stdout",
     "output_type": "stream",
     "text": [
      "https://github.com/DataTalksClub/nyc-tlc-data/releases/download/green/green_tripdata_2019-04.csv.gz\n",
      "(514392, 20)\n"
     ]
    }
   ],
   "source": [
    "# GET GREEN DF \n",
    "green_file_name = f\"green_tripdata_{year}-{month}.csv.gz\"\n",
    "\n",
    "green_url = f\"{init_url}green/{green_file_name}\"\n",
    "print(green_url)\n",
    "\n",
    "\n",
    "green_r = requests.get(green_url)    \n",
    "green_df = pd.read_csv(BytesIO(green_r.content), compression='gzip')\n",
    "print(green_df.shape)\n"
   ]
  },
  {
   "cell_type": "code",
   "execution_count": 23,
   "metadata": {},
   "outputs": [
    {
     "name": "stdout",
     "output_type": "stream",
     "text": [
      "https://github.com/DataTalksClub/nyc-tlc-data/releases/download/fhv/fhv_tripdata_2019-04.csv.gz\n",
      "(1937844, 7)\n"
     ]
    }
   ],
   "source": [
    "# GET fhv DF \n",
    "fhv_file_name = f\"fhv_tripdata_{year}-{month}.csv.gz\"\n",
    "\n",
    "fhv_url = f\"{init_url}fhv/{fhv_file_name}\"\n",
    "print(fhv_url)\n",
    "\n",
    "\n",
    "fhv_r = requests.get(fhv_url)    \n",
    "fhv_df = pd.read_csv(BytesIO(fhv_r.content), compression='gzip')\n",
    "print(fhv_df.shape)"
   ]
  },
  {
   "cell_type": "code",
   "execution_count": 24,
   "metadata": {},
   "outputs": [
    {
     "name": "stdout",
     "output_type": "stream",
     "text": [
      "Index(['VendorID', 'lpep_pickup_datetime', 'lpep_dropoff_datetime',\n",
      "       'store_and_fwd_flag', 'RatecodeID', 'PULocationID', 'DOLocationID',\n",
      "       'passenger_count', 'trip_distance', 'fare_amount', 'extra', 'mta_tax',\n",
      "       'tip_amount', 'tolls_amount', 'ehail_fee', 'improvement_surcharge',\n",
      "       'total_amount', 'payment_type', 'trip_type', 'congestion_surcharge'],\n",
      "      dtype='object')\n"
     ]
    }
   ],
   "source": [
    "print(green_df.columns) "
   ]
  },
  {
   "cell_type": "code",
   "execution_count": null,
   "metadata": {},
   "outputs": [],
   "source": []
  },
  {
   "cell_type": "code",
   "execution_count": 19,
   "metadata": {},
   "outputs": [],
   "source": [
    "df_yellow = df_csv.copy()"
   ]
  },
  {
   "cell_type": "code",
   "execution_count": 12,
   "metadata": {},
   "outputs": [
    {
     "ename": "NameError",
     "evalue": "name 'green_df' is not defined",
     "output_type": "error",
     "traceback": [
      "\u001b[0;31m---------------------------------------------------------------------------\u001b[0m",
      "\u001b[0;31mNameError\u001b[0m                                 Traceback (most recent call last)",
      "Cell \u001b[0;32mIn[12], line 1\u001b[0m\n\u001b[0;32m----> 1\u001b[0m \u001b[38;5;28mprint\u001b[39m(\u001b[43mgreen_df\u001b[49m\u001b[38;5;241m.\u001b[39mcolumns) \n",
      "\u001b[0;31mNameError\u001b[0m: name 'green_df' is not defined"
     ]
    }
   ],
   "source": [
    "print(green_df.columns) "
   ]
  },
  {
   "cell_type": "code",
   "execution_count": 21,
   "metadata": {},
   "outputs": [
    {
     "name": "stdout",
     "output_type": "stream",
     "text": [
      "<class 'pandas.core.frame.DataFrame'>\n",
      "RangeIndex: 7433139 entries, 0 to 7433138\n",
      "Data columns (total 18 columns):\n",
      " #   Column                 Dtype  \n",
      "---  ------                 -----  \n",
      " 0   VendorID               int64  \n",
      " 1   tpep_pickup_datetime   object \n",
      " 2   tpep_dropoff_datetime  object \n",
      " 3   passenger_count        int64  \n",
      " 4   trip_distance          float64\n",
      " 5   RatecodeID             int64  \n",
      " 6   store_and_fwd_flag     object \n",
      " 7   PULocationID           int64  \n",
      " 8   DOLocationID           int64  \n",
      " 9   payment_type           int64  \n",
      " 10  fare_amount            float64\n",
      " 11  extra                  float64\n",
      " 12  mta_tax                float64\n",
      " 13  tip_amount             float64\n",
      " 14  tolls_amount           float64\n",
      " 15  improvement_surcharge  float64\n",
      " 16  total_amount           float64\n",
      " 17  congestion_surcharge   float64\n",
      "dtypes: float64(9), int64(6), object(3)\n",
      "memory usage: 1020.8+ MB\n"
     ]
    }
   ],
   "source": [
    "df_yellow.info()"
   ]
  },
  {
   "cell_type": "code",
   "execution_count": 1,
   "metadata": {},
   "outputs": [
    {
     "ename": "NameError",
     "evalue": "name 'df_green' is not defined",
     "output_type": "error",
     "traceback": [
      "\u001b[0;31m---------------------------------------------------------------------------\u001b[0m",
      "\u001b[0;31mNameError\u001b[0m                                 Traceback (most recent call last)",
      "Cell \u001b[0;32mIn[1], line 1\u001b[0m\n\u001b[0;32m----> 1\u001b[0m \u001b[43mdf_green\u001b[49m\u001b[38;5;241m.\u001b[39minfo()\n",
      "\u001b[0;31mNameError\u001b[0m: name 'df_green' is not defined"
     ]
    }
   ],
   "source": [
    "df_green.info()"
   ]
  },
  {
   "cell_type": "code",
   "execution_count": 23,
   "metadata": {},
   "outputs": [
    {
     "name": "stdout",
     "output_type": "stream",
     "text": [
      "<class 'pandas.core.frame.DataFrame'>\n",
      "RangeIndex: 1937844 entries, 0 to 1937843\n",
      "Data columns (total 7 columns):\n",
      " #   Column                  Dtype  \n",
      "---  ------                  -----  \n",
      " 0   dispatching_base_num    object \n",
      " 1   pickup_datetime         object \n",
      " 2   dropOff_datetime        object \n",
      " 3   PUlocationID            float64\n",
      " 4   DOlocationID            float64\n",
      " 5   SR_Flag                 float64\n",
      " 6   Affiliated_base_number  object \n",
      "dtypes: float64(3), object(4)\n",
      "memory usage: 103.5+ MB\n"
     ]
    }
   ],
   "source": [
    "df_fhv.info()"
   ]
  },
  {
   "cell_type": "code",
   "execution_count": 25,
   "metadata": {},
   "outputs": [],
   "source": [
    "df_yellow.columns = df_yellow.columns.str.lower()\n",
    "df_green.columns = df_green.columns.str.lower()\n",
    "df_fhv.columns = df_fhv.columns.str.lower()"
   ]
  },
  {
   "cell_type": "code",
   "execution_count": 27,
   "metadata": {},
   "outputs": [
    {
     "name": "stdout",
     "output_type": "stream",
     "text": [
      "yellow vendorid\n",
      "2    4633794\n",
      "1    2767475\n",
      "4      31870\n",
      "Name: count, dtype: int64\n",
      "green vendorid\n",
      "2    430800\n",
      "1     83592\n",
      "Name: count, dtype: int64\n"
     ]
    }
   ],
   "source": [
    "# VendorID is an INT \n",
    "print('yellow',df_yellow.vendorid.value_counts())\n",
    "print('green',df_green.vendorid.value_counts())"
   ]
  },
  {
   "cell_type": "code",
   "execution_count": 49,
   "metadata": {},
   "outputs": [
    {
     "name": "stdout",
     "output_type": "stream",
     "text": [
      "yellow store_and_fwd_flag\n",
      "N    7390729\n",
      "Y      42410\n",
      "Name: count, dtype: int64\n",
      "green store_and_fwd_flag\n",
      "N    512983\n",
      "Y      1409\n",
      "Name: count, dtype: int64\n"
     ]
    }
   ],
   "source": [
    "# VendorID is an INT \n",
    "print('yellow',df_yellow.store_and_fwd_flag.value_counts())\n",
    "print('green',df_green.store_and_fwd_flag.value_counts())"
   ]
  },
  {
   "cell_type": "code",
   "execution_count": 28,
   "metadata": {},
   "outputs": [
    {
     "name": "stdout",
     "output_type": "stream",
     "text": [
      "yellow passenger_count\n",
      "1    5210818\n",
      "2    1113704\n",
      "3     317979\n",
      "5     313982\n",
      "6     186408\n",
      "4     153369\n",
      "0     136807\n",
      "7         29\n",
      "8         24\n",
      "9         19\n",
      "Name: count, dtype: int64\n",
      "green passenger_count\n",
      "1    441661\n",
      "2     38677\n",
      "5     14597\n",
      "6      8463\n",
      "3      7123\n",
      "4      2831\n",
      "0      1022\n",
      "8        12\n",
      "7         4\n",
      "9         2\n",
      "Name: count, dtype: int64\n"
     ]
    }
   ],
   "source": [
    "# Passenger count is an INT \n",
    "print('yellow',df_yellow.passenger_count.value_counts())\n",
    "print('green',df_green.passenger_count.value_counts())"
   ]
  },
  {
   "cell_type": "code",
   "execution_count": 31,
   "metadata": {},
   "outputs": [],
   "source": [
    "url = f'https://d37ci6vzurychx.cloudfront.net/trip-data/yellow_tripdata_{year}-{month}.parquet'\n",
    "r = requests.get(url)\n",
    "df_parquet = pd.read_parquet(BytesIO(r.content))"
   ]
  },
  {
   "cell_type": "code",
   "execution_count": 48,
   "metadata": {},
   "outputs": [
    {
     "name": "stdout",
     "output_type": "stream",
     "text": [
      "vendorid                          int64\n",
      "tpep_pickup_datetime     datetime64[us]\n",
      "tpep_dropoff_datetime    datetime64[us]\n",
      "passenger_count                 float64\n",
      "trip_distance                   float64\n",
      "ratecodeid                      float64\n",
      "store_and_fwd_flag               object\n",
      "pulocationid                      int64\n",
      "dolocationid                      int64\n",
      "payment_type                      int64\n",
      "fare_amount                     float64\n",
      "extra                           float64\n",
      "mta_tax                         float64\n",
      "tip_amount                      float64\n",
      "tolls_amount                    float64\n",
      "improvement_surcharge           float64\n",
      "total_amount                    float64\n",
      "congestion_surcharge            float64\n"
     ]
    }
   ],
   "source": [
    "df_parquet.columns = df_parquet.columns.str.lower()\n",
    "source_dtypes = df_parquet.dtypes\n",
    "source_dtypes.drop(source_dtypes.index[-1], inplace=True)\n",
    "series_string = source_dtypes.to_string()\n",
    "print(series_string)"
   ]
  },
  {
   "cell_type": "code",
   "execution_count": null,
   "metadata": {},
   "outputs": [],
   "source": [
    "0   VendorID               int64  \n",
    " 1   tpep_pickup_datetime   object \n",
    " 2   tpep_dropoff_datetime  object \n",
    " 3   passenger_count        int64  \n",
    " 4   trip_distance          float64\n",
    " 5   RatecodeID             int64  \n",
    " 6   store_and_fwd_flag     object \n",
    " 7   PULocationID           int64  \n",
    " 8   DOLocationID           int64  \n",
    " 9   payment_type           int64  \n",
    " 10  fare_amount            float64\n",
    " 11  extra                  float64\n",
    " 12  mta_tax                float64\n",
    " 13  tip_amount             float64\n",
    " 14  tolls_amount           float64\n",
    " 15  improvement_surcharge  float64\n",
    " 16  total_amount           float64\n",
    " 17  congestion_surcharge   float64"
   ]
  },
  {
   "cell_type": "code",
   "execution_count": 40,
   "metadata": {},
   "outputs": [],
   "source": [
    "df_yellow = df_yellow.astype(source_dtypes)"
   ]
  },
  {
   "cell_type": "code",
   "execution_count": 41,
   "metadata": {},
   "outputs": [
    {
     "name": "stdout",
     "output_type": "stream",
     "text": [
      "<class 'pandas.core.frame.DataFrame'>\n",
      "RangeIndex: 7433139 entries, 0 to 7433138\n",
      "Data columns (total 18 columns):\n",
      " #   Column                 Dtype         \n",
      "---  ------                 -----         \n",
      " 0   vendorid               int64         \n",
      " 1   tpep_pickup_datetime   datetime64[us]\n",
      " 2   tpep_dropoff_datetime  datetime64[us]\n",
      " 3   passenger_count        float64       \n",
      " 4   trip_distance          float64       \n",
      " 5   ratecodeid             float64       \n",
      " 6   store_and_fwd_flag     object        \n",
      " 7   pulocationid           int64         \n",
      " 8   dolocationid           int64         \n",
      " 9   payment_type           int64         \n",
      " 10  fare_amount            float64       \n",
      " 11  extra                  float64       \n",
      " 12  mta_tax                float64       \n",
      " 13  tip_amount             float64       \n",
      " 14  tolls_amount           float64       \n",
      " 15  improvement_surcharge  float64       \n",
      " 16  total_amount           float64       \n",
      " 17  congestion_surcharge   float64       \n",
      "dtypes: datetime64[us](2), float64(11), int64(4), object(1)\n",
      "memory usage: 1020.8+ MB\n"
     ]
    }
   ],
   "source": [
    "df_yellow.info()"
   ]
  },
  {
   "cell_type": "code",
   "execution_count": 42,
   "metadata": {},
   "outputs": [
    {
     "data": {
      "text/html": [
       "<div>\n",
       "<style scoped>\n",
       "    .dataframe tbody tr th:only-of-type {\n",
       "        vertical-align: middle;\n",
       "    }\n",
       "\n",
       "    .dataframe tbody tr th {\n",
       "        vertical-align: top;\n",
       "    }\n",
       "\n",
       "    .dataframe thead th {\n",
       "        text-align: right;\n",
       "    }\n",
       "</style>\n",
       "<table border=\"1\" class=\"dataframe\">\n",
       "  <thead>\n",
       "    <tr style=\"text-align: right;\">\n",
       "      <th></th>\n",
       "      <th>vendorid</th>\n",
       "      <th>tpep_pickup_datetime</th>\n",
       "      <th>tpep_dropoff_datetime</th>\n",
       "      <th>passenger_count</th>\n",
       "      <th>trip_distance</th>\n",
       "      <th>ratecodeid</th>\n",
       "      <th>store_and_fwd_flag</th>\n",
       "      <th>pulocationid</th>\n",
       "      <th>dolocationid</th>\n",
       "      <th>payment_type</th>\n",
       "      <th>fare_amount</th>\n",
       "      <th>extra</th>\n",
       "      <th>mta_tax</th>\n",
       "      <th>tip_amount</th>\n",
       "      <th>tolls_amount</th>\n",
       "      <th>improvement_surcharge</th>\n",
       "      <th>total_amount</th>\n",
       "      <th>congestion_surcharge</th>\n",
       "      <th>airport_fee</th>\n",
       "    </tr>\n",
       "  </thead>\n",
       "  <tbody>\n",
       "    <tr>\n",
       "      <th>0</th>\n",
       "      <td>1</td>\n",
       "      <td>2019-04-01 00:04:09</td>\n",
       "      <td>2019-04-01 00:06:35</td>\n",
       "      <td>1.0</td>\n",
       "      <td>0.5</td>\n",
       "      <td>1.0</td>\n",
       "      <td>N</td>\n",
       "      <td>239</td>\n",
       "      <td>239</td>\n",
       "      <td>1</td>\n",
       "      <td>4.0</td>\n",
       "      <td>3.0</td>\n",
       "      <td>0.5</td>\n",
       "      <td>1.00</td>\n",
       "      <td>0.0</td>\n",
       "      <td>0.3</td>\n",
       "      <td>8.80</td>\n",
       "      <td>2.5</td>\n",
       "      <td>None</td>\n",
       "    </tr>\n",
       "    <tr>\n",
       "      <th>1</th>\n",
       "      <td>1</td>\n",
       "      <td>2019-04-01 00:22:45</td>\n",
       "      <td>2019-04-01 00:25:43</td>\n",
       "      <td>1.0</td>\n",
       "      <td>0.7</td>\n",
       "      <td>1.0</td>\n",
       "      <td>N</td>\n",
       "      <td>230</td>\n",
       "      <td>100</td>\n",
       "      <td>2</td>\n",
       "      <td>4.5</td>\n",
       "      <td>3.0</td>\n",
       "      <td>0.5</td>\n",
       "      <td>0.00</td>\n",
       "      <td>0.0</td>\n",
       "      <td>0.3</td>\n",
       "      <td>8.30</td>\n",
       "      <td>2.5</td>\n",
       "      <td>None</td>\n",
       "    </tr>\n",
       "    <tr>\n",
       "      <th>2</th>\n",
       "      <td>1</td>\n",
       "      <td>2019-04-01 00:39:48</td>\n",
       "      <td>2019-04-01 01:19:39</td>\n",
       "      <td>1.0</td>\n",
       "      <td>10.9</td>\n",
       "      <td>1.0</td>\n",
       "      <td>N</td>\n",
       "      <td>68</td>\n",
       "      <td>127</td>\n",
       "      <td>1</td>\n",
       "      <td>36.0</td>\n",
       "      <td>3.0</td>\n",
       "      <td>0.5</td>\n",
       "      <td>7.95</td>\n",
       "      <td>0.0</td>\n",
       "      <td>0.3</td>\n",
       "      <td>47.75</td>\n",
       "      <td>2.5</td>\n",
       "      <td>None</td>\n",
       "    </tr>\n",
       "    <tr>\n",
       "      <th>3</th>\n",
       "      <td>1</td>\n",
       "      <td>2019-04-01 00:35:32</td>\n",
       "      <td>2019-04-01 00:37:11</td>\n",
       "      <td>1.0</td>\n",
       "      <td>0.2</td>\n",
       "      <td>1.0</td>\n",
       "      <td>N</td>\n",
       "      <td>68</td>\n",
       "      <td>68</td>\n",
       "      <td>2</td>\n",
       "      <td>3.5</td>\n",
       "      <td>3.0</td>\n",
       "      <td>0.5</td>\n",
       "      <td>0.00</td>\n",
       "      <td>0.0</td>\n",
       "      <td>0.3</td>\n",
       "      <td>7.30</td>\n",
       "      <td>2.5</td>\n",
       "      <td>None</td>\n",
       "    </tr>\n",
       "    <tr>\n",
       "      <th>4</th>\n",
       "      <td>1</td>\n",
       "      <td>2019-04-01 00:44:05</td>\n",
       "      <td>2019-04-01 00:57:58</td>\n",
       "      <td>1.0</td>\n",
       "      <td>4.8</td>\n",
       "      <td>1.0</td>\n",
       "      <td>N</td>\n",
       "      <td>50</td>\n",
       "      <td>42</td>\n",
       "      <td>1</td>\n",
       "      <td>15.5</td>\n",
       "      <td>3.0</td>\n",
       "      <td>0.5</td>\n",
       "      <td>3.85</td>\n",
       "      <td>0.0</td>\n",
       "      <td>0.3</td>\n",
       "      <td>23.15</td>\n",
       "      <td>2.5</td>\n",
       "      <td>None</td>\n",
       "    </tr>\n",
       "  </tbody>\n",
       "</table>\n",
       "</div>"
      ],
      "text/plain": [
       "   vendorid tpep_pickup_datetime tpep_dropoff_datetime  passenger_count  \\\n",
       "0         1  2019-04-01 00:04:09   2019-04-01 00:06:35              1.0   \n",
       "1         1  2019-04-01 00:22:45   2019-04-01 00:25:43              1.0   \n",
       "2         1  2019-04-01 00:39:48   2019-04-01 01:19:39              1.0   \n",
       "3         1  2019-04-01 00:35:32   2019-04-01 00:37:11              1.0   \n",
       "4         1  2019-04-01 00:44:05   2019-04-01 00:57:58              1.0   \n",
       "\n",
       "   trip_distance  ratecodeid store_and_fwd_flag  pulocationid  dolocationid  \\\n",
       "0            0.5         1.0                  N           239           239   \n",
       "1            0.7         1.0                  N           230           100   \n",
       "2           10.9         1.0                  N            68           127   \n",
       "3            0.2         1.0                  N            68            68   \n",
       "4            4.8         1.0                  N            50            42   \n",
       "\n",
       "   payment_type  fare_amount  extra  mta_tax  tip_amount  tolls_amount  \\\n",
       "0             1          4.0    3.0      0.5        1.00           0.0   \n",
       "1             2          4.5    3.0      0.5        0.00           0.0   \n",
       "2             1         36.0    3.0      0.5        7.95           0.0   \n",
       "3             2          3.5    3.0      0.5        0.00           0.0   \n",
       "4             1         15.5    3.0      0.5        3.85           0.0   \n",
       "\n",
       "   improvement_surcharge  total_amount  congestion_surcharge airport_fee  \n",
       "0                    0.3          8.80                   2.5        None  \n",
       "1                    0.3          8.30                   2.5        None  \n",
       "2                    0.3         47.75                   2.5        None  \n",
       "3                    0.3          7.30                   2.5        None  \n",
       "4                    0.3         23.15                   2.5        None  "
      ]
     },
     "execution_count": 42,
     "metadata": {},
     "output_type": "execute_result"
    }
   ],
   "source": [
    "df_parquet.head()\n"
   ]
  }
 ],
 "metadata": {
  "kernelspec": {
   "display_name": "de_zoom",
   "language": "python",
   "name": "python3"
  },
  "language_info": {
   "codemirror_mode": {
    "name": "ipython",
    "version": 3
   },
   "file_extension": ".py",
   "mimetype": "text/x-python",
   "name": "python",
   "nbconvert_exporter": "python",
   "pygments_lexer": "ipython3",
   "version": "3.11.5"
  }
 },
 "nbformat": 4,
 "nbformat_minor": 2
}
