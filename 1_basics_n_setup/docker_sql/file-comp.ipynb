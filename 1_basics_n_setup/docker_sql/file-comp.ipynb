{
 "cells": [
  {
   "cell_type": "code",
   "execution_count": 2,
   "metadata": {},
   "outputs": [],
   "source": [
    "import pandas as pd\n",
    "import os "
   ]
  },
  {
   "cell_type": "code",
   "execution_count": 36,
   "metadata": {},
   "outputs": [],
   "source": [
    "parquet_name = 'data/yellow_tripdata_2021-01.parquet'\n",
    "csv_name = 'data/yellow_cab_trip_data_jan_2021.csv.gz'\n",
    "green_jan2019_parquet = 'data/green_cab_trip_data_jan_2019.parquet'\n",
    "green_jan2019_csv = 'data/green_cab_trip_data_jan_2019.csv'\n",
    "#parquet_url=\"https://d37ci6vzurychx.cloudfront.net/trip-data/yellow_tripdata_2021-01.parquet\"\n",
    "#csv_url=\"https://github.com/DataTalksClub/nyc-tlc-data/releases/download/yellow/yellow_tripdata_2021-01.csv.gz\""
   ]
  },
  {
   "cell_type": "code",
   "execution_count": null,
   "metadata": {},
   "outputs": [],
   "source": [
    "# ONE TIME DOWNLOAD  \n",
    "#os.system(f'wget -O {parquet_name} {parquet_url}')\n",
    "#os.system(f'wget -O {csv_name} {csv_url}')"
   ]
  },
  {
   "cell_type": "code",
   "execution_count": 4,
   "metadata": {},
   "outputs": [],
   "source": [
    "# unzip csv file dont need this\n",
    "#!gunzip data/yellow_trip_data_2021-01.csv.gz"
   ]
  },
  {
   "cell_type": "code",
   "execution_count": 25,
   "metadata": {},
   "outputs": [
    {
     "name": "stderr",
     "output_type": "stream",
     "text": [
      "/tmp/ipykernel_142540/2664334846.py:2: DtypeWarning: Columns (6) have mixed types. Specify dtype option on import or set low_memory=False.\n",
      "  csv_df = pd.read_csv(csv_name, compression='gzip')\n"
     ]
    }
   ],
   "source": [
    "parquet_df = pd.read_parquet(parquet_name)\n",
    "csv_df = pd.read_csv(csv_name, compression='gzip')"
   ]
  },
  {
   "cell_type": "code",
   "execution_count": 26,
   "metadata": {},
   "outputs": [
    {
     "name": "stdout",
     "output_type": "stream",
     "text": [
      "(1369769, 19)\n",
      "(1369765, 18)\n"
     ]
    }
   ],
   "source": [
    "print(parquet_df.shape)\n",
    "print(csv_df.shape)"
   ]
  },
  {
   "cell_type": "code",
   "execution_count": 37,
   "metadata": {},
   "outputs": [],
   "source": [
    "green_2019_csv_df = pd.read_csv(green_jan2019_csv)\n",
    "green_2019_parquet_df = pd.read_parquet(green_jan2019_parquet)"
   ]
  },
  {
   "cell_type": "code",
   "execution_count": 38,
   "metadata": {},
   "outputs": [
    {
     "name": "stdout",
     "output_type": "stream",
     "text": [
      "(630918, 20)\n",
      "(672105, 20)\n"
     ]
    }
   ],
   "source": [
    "print(green_2019_csv_df.shape)\n",
    "print(green_2019_parquet_df.shape)"
   ]
  }
 ],
 "metadata": {
  "kernelspec": {
   "display_name": "de_zoom",
   "language": "python",
   "name": "python3"
  },
  "language_info": {
   "codemirror_mode": {
    "name": "ipython",
    "version": 3
   },
   "file_extension": ".py",
   "mimetype": "text/x-python",
   "name": "python",
   "nbconvert_exporter": "python",
   "pygments_lexer": "ipython3",
   "version": "3.11.5"
  }
 },
 "nbformat": 4,
 "nbformat_minor": 2
}
